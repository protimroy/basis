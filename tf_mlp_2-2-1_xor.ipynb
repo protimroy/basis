{
 "cells": [
  {
   "cell_type": "code",
   "execution_count": 6,
   "metadata": {},
   "outputs": [],
   "source": [
    "import tensorflow as tf;"
   ]
  },
  {
   "cell_type": "code",
   "execution_count": 7,
   "metadata": {},
   "outputs": [
    {
     "name": "stdout",
     "output_type": "stream",
     "text": [
      "2.17.0\n"
     ]
    }
   ],
   "source": [
    "print( tf.__version__ )"
   ]
  },
  {
   "cell_type": "code",
   "execution_count": 8,
   "metadata": {},
   "outputs": [
    {
     "name": "stdout",
     "output_type": "stream",
     "text": [
      "[PhysicalDevice(name='/physical_device:GPU:0', device_type='GPU')]\n"
     ]
    }
   ],
   "source": [
    "print(tf.config.list_physical_devices('GPU'))"
   ]
  },
  {
   "cell_type": "code",
   "execution_count": null,
   "metadata": {},
   "outputs": [],
   "source": [
    "class DenseLayer( tf.Module ):\n",
    "    \"\"\"\n",
    "    \"\"\"\n",
    "    def __init__( self, out_dim, weight_init=xavier_init, activation=tf.identity ):\n",
    "        \"\"\"\n",
    "        \"\"\"\n",
    "        self.out_dim = out_dim;\n",
    "        self.weight_init = weight_init;\n",
    "        self.activation = activation;\n",
    "        self.built = False;\n",
    "\n",
    "    def __call__( self, x ):\n",
    "        \"\"\"\n",
    "        \"\"\"\n",
    "        if not self.built:\n",
    "            self.in_dim = x.shape[1];\n",
    "            self.W = tf.Variable( self.weight_init( shape = (self.in_dim, self.out_dim) ) );\n",
    "            self.b = tf.Variable( tf.zeros( shape = (self.out_dim,) ) );\n",
    "            self.built = True;\n",
    "\n",
    "        intermediate = tf.add( tf.matmul ( x, self.W ), self.b );\n",
    "        return self.activation( intermediate );\n"
   ]
  },
  {
   "cell_type": "code",
   "execution_count": null,
   "metadata": {},
   "outputs": [],
   "source": [
    "class MLP( tf.Module ):\n",
    "    \"\"\"\n",
    "    \"\"\"\n",
    "    def __init__( self, layers ):\n",
    "        \"\"\"\n",
    "        \"\"\"\n",
    "        self.layers = layers;\n",
    "\n",
    "    @tf.function\n",
    "    def __call__( self, x, preds=False ):\n",
    "        \"\"\"\n",
    "        \"\"\"\n",
    "        for layer in self.layers:\n",
    "            x = layer( x );\n",
    "        return x;"
   ]
  },
  {
   "cell_type": "code",
   "execution_count": null,
   "metadata": {},
   "outputs": [],
   "source": [
    "def cross_entropy_loss( y_pred, y ):\n",
    "    \"\"\"\n",
    "    \"\"\"\n",
    "    sparse_categorical_crossentropy = tf.nn.sparse_softmax_cross_entropy_with_logits( labels=y, logits=y_pred );\n",
    "    return tf.reduce_mean( sparse_categorical_crossentropy );"
   ]
  },
  {
   "cell_type": "code",
   "execution_count": null,
   "metadata": {},
   "outputs": [],
   "source": [
    "def accuracy( y_pred, y ):\n",
    "    \"\"\"\n",
    "    \"\"\"\n",
    "    class_preds = tf.argmax( tf.nn.sftmax( y_pred ), axis=1 );\n",
    "    is_equal = tf.equal( y, class_preds );\n",
    "    return tf.reduce_mean( tf.cast( is_equal, tf.float32 ) );"
   ]
  }
 ],
 "metadata": {
  "kernelspec": {
   "display_name": "venv",
   "language": "python",
   "name": "python3"
  },
  "language_info": {
   "codemirror_mode": {
    "name": "ipython",
    "version": 3
   },
   "file_extension": ".py",
   "mimetype": "text/x-python",
   "name": "python",
   "nbconvert_exporter": "python",
   "pygments_lexer": "ipython3",
   "version": "3.11.10"
  }
 },
 "nbformat": 4,
 "nbformat_minor": 2
}
